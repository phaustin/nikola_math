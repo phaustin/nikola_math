{
 "cells": [
  {
   "cell_type": "markdown",
   "metadata": {
    "collapsed": true
   },
   "source": [
    "### Try latex delimiters"
   ]
  },
  {
   "cell_type": "markdown",
   "metadata": {},
   "source": [
    "```\n",
    "test inline math: $\\int_0^\\infty f(z) dz$  with ( with parentheses)\n",
    "```\n",
    "\n",
    "test inline math: $\\int_0^\\infty f(z) dz$  with ( with parentheses)"
   ]
  },
  {
   "cell_type": "code",
   "execution_count": null,
   "metadata": {
    "collapsed": true
   },
   "outputs": [],
   "source": []
  }
 ],
 "metadata": {
  "kernelspec": {
   "display_name": "Python 3",
   "language": "python",
   "name": "python3"
  },
  "language_info": {
   "codemirror_mode": {
    "name": "ipython",
    "version": 3
   },
   "file_extension": ".py",
   "mimetype": "text/x-python",
   "name": "python",
   "nbconvert_exporter": "python",
   "pygments_lexer": "ipython3",
   "version": "3.4.3"
  },
  "nikola": {
   "category": "",
   "date": "2016-02-05 10:35:05 UTC-08:00",
   "description": "",
   "link": "",
   "slug": "latex-delimiters",
   "tags": "",
   "title": "latex delimiters",
   "type": "text"
  }
 },
 "nbformat": 4,
 "nbformat_minor": 0
}
