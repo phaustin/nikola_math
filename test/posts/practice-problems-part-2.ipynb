{
 "cells": [
  {
   "cell_type": "markdown",
   "metadata": {},
   "source": [
    "Write your post here."
   ]
  }
 ],
 "metadata": {
  "kernelspec": {
   "display_name": "Python 3",
   "env": {},
   "language": "python",
   "name": "python3"
  },
  "nikola": {
   "category": "",
   "date": "2016-04-02 08:54:12 UTC-07:00",
   "description": "",
   "link": "",
   "slug": "practice-problems-part-2",
   "tags": "",
   "title": "Practice Problems part 2",
   "type": "text"
  }
 },
 "nbformat": 4,
 "nbformat_minor": 0
}
