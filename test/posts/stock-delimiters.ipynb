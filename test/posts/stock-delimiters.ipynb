{
 "cells": [
  {
   "cell_type": "markdown",
   "metadata": {},
   "source": [
    "test inline: math \\\\(\\int_0^\\infty f(z) dz \\\\) with (parentheses)"
   ]
  },
  {
   "cell_type": "markdown",
   "metadata": {},
   "source": [
    "Try to convert the cell above to pdf using nbconvert:\n",
    "\n",
    "```\n",
    " ipython nbconvert --to latex stock-delimiters.ipynb\n",
    " "
   ]
  }
 ],
 "metadata": {
  "kernelspec": {
   "display_name": "Python 3",
   "language": "python",
   "name": "python3"
  },
  "language_info": {
   "codemirror_mode": {
    "name": "ipython",
    "version": 3
   },
   "file_extension": ".py",
   "mimetype": "text/x-python",
   "name": "python",
   "nbconvert_exporter": "python",
   "pygments_lexer": "ipython3",
   "version": "3.4.3"
  },
  "nikola": {
   "category": "",
   "date": "2016-02-05 10:30:05 UTC-08:00",
   "description": "",
   "link": "",
   "slug": "stock-delimiters",
   "tags": "",
   "title": "stock delimiters",
   "type": "text"
  }
 },
 "nbformat": 4,
 "nbformat_minor": 0
}
